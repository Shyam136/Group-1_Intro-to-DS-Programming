{
 "cells": [
  {
   "cell_type": "code",
   "execution_count": 2,
   "id": "b2fcf82b",
   "metadata": {},
   "outputs": [],
   "source": [
    "import pandas as pd\n",
    "\n",
    "df = pd.read_csv(\"Data/processed/movies_cleaned.csv\")"
   ]
  },
  {
   "cell_type": "markdown",
   "id": "792974e6",
   "metadata": {},
   "source": [
    "### Distribution of Gross Revenue"
   ]
  },
  {
   "cell_type": "code",
   "execution_count": null,
   "id": "9033135d",
   "metadata": {},
   "outputs": [
    {
     "ename": "",
     "evalue": "",
     "output_type": "error",
     "traceback": [
      "\u001b[1;31mRunning cells with 'base (Python 3.13.5)' requires the ipykernel package.\n",
      "\u001b[1;31m<a href='command:jupyter.createPythonEnvAndSelectController'>Create a Python Environment</a> with the required packages.\n",
      "\u001b[1;31mOr install 'ipykernel' using the command: 'conda install -n base ipykernel --update-deps --force-reinstall'"
     ]
    }
   ],
   "source": [
    "plt.figure(figsize=(10, 6))\n",
    "sns.histplot(df[\"gross\"], bins=30, kde=True)\n",
    "plt.title(\"Distribution of Gross Revenue\")\n",
    "plt.xlabel(\"Gross Revenue\")\n",
    "plt.ylabel(\"Frequency\")\n",
    "plt.tight_layout()\n",
    "plt.show()"
   ]
  },
  {
   "cell_type": "markdown",
   "id": "3e8f99df",
   "metadata": {},
   "source": [
    "### Revenue by Genre"
   ]
  },
  {
   "cell_type": "code",
   "execution_count": null,
   "id": "351d0a0b",
   "metadata": {},
   "outputs": [],
   "source": [
    "plt.figure(figsize=(12, 6))\n",
    "sns.boxplot(data=df, x=\"genre\", y=\"gross\")\n",
    "plt.xticks(rotation=45)\n",
    "plt.title(\"Gross Revenue by Genre\")\n",
    "plt.xlabel(\"Genre\")\n",
    "plt.ylabel(\"Gross Revenue\")\n",
    "plt.tight_layout()\n",
    "plt.show()"
   ]
  },
  {
   "cell_type": "markdown",
   "id": "7bd04286",
   "metadata": {},
   "source": [
    "### Top 10 Grossing Movies"
   ]
  },
  {
   "cell_type": "code",
   "execution_count": null,
   "id": "2ca62194",
   "metadata": {},
   "outputs": [],
   "source": [
    "top10 = df.sort_values(by=\"gross\", ascending=False).head(10)\n",
    "\n",
    "plt.figure(figsize=(12, 6))\n",
    "sns.barplot(data=top10, x=\"movie_title\", y=\"gross\")\n",
    "plt.xticks(rotation=45)\n",
    "plt.title(\"Top 10 Grossing Movies\")\n",
    "plt.xlabel(\"Movie Title\")\n",
    "plt.ylabel(\"Gross Revenue\")\n",
    "plt.tight_layout()\n",
    "plt.show()"
   ]
  }
 ],
 "metadata": {
  "kernelspec": {
   "display_name": "base",
   "language": "python",
   "name": "python3"
  },
  "language_info": {
   "codemirror_mode": {
    "name": "ipython",
    "version": 3
   },
   "file_extension": ".py",
   "mimetype": "text/x-python",
   "name": "python",
   "nbconvert_exporter": "python",
   "pygments_lexer": "ipython3",
   "version": "3.13.5"
  }
 },
 "nbformat": 4,
 "nbformat_minor": 5
}
