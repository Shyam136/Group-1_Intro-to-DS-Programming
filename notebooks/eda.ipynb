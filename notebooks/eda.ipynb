{
 "cells": [
  {
   "cell_type": "code",
   "execution_count": null,
   "id": "f5a08acc",
   "metadata": {
    "vscode": {
     "languageId": "plaintext"
    }
   },
   "outputs": [],
   "source": [
    "# Load in necessary packages"
   ]
  },
  {
   "cell_type": "markdown",
   "id": "bf0efd7d",
   "metadata": {},
   "source": [
    "### Gross Revenue over Time"
   ]
  },
  {
   "cell_type": "code",
   "execution_count": null,
   "id": "2f4c28f1",
   "metadata": {
    "vscode": {
     "languageId": "plaintext"
    }
   },
   "outputs": [],
   "source": []
  },
  {
   "cell_type": "markdown",
   "id": "a2d36983",
   "metadata": {},
   "source": [
    "### Budget vs Gross Scatterplot with Genre Coloring"
   ]
  },
  {
   "cell_type": "code",
   "execution_count": null,
   "id": "1ce53c7f",
   "metadata": {
    "vscode": {
     "languageId": "plaintext"
    }
   },
   "outputs": [],
   "source": []
  },
  {
   "cell_type": "markdown",
   "id": "420c7199",
   "metadata": {},
   "source": [
    "### Correlation Heatmap for Numeric Features"
   ]
  },
  {
   "cell_type": "code",
   "execution_count": null,
   "id": "6de42196",
   "metadata": {
    "vscode": {
     "languageId": "plaintext"
    }
   },
   "outputs": [],
   "source": []
  }
 ],
 "metadata": {
  "language_info": {
   "name": "python"
  }
 },
 "nbformat": 4,
 "nbformat_minor": 5
}
