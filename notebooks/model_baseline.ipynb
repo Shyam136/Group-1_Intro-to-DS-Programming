{
 "cells": [
  {
   "cell_type": "code",
   "execution_count": 1,
   "id": "5923ade9",
   "metadata": {},
   "outputs": [
    {
     "ename": "ModuleNotFoundError",
     "evalue": "No module named 'model'",
     "output_type": "error",
     "traceback": [
      "\u001b[31m---------------------------------------------------------------------------\u001b[39m",
      "\u001b[31mModuleNotFoundError\u001b[39m                       Traceback (most recent call last)",
      "\u001b[36mCell\u001b[39m\u001b[36m \u001b[39m\u001b[32mIn[1]\u001b[39m\u001b[32m, line 4\u001b[39m\n\u001b[32m      2\u001b[39m \u001b[38;5;28;01mimport\u001b[39;00m\u001b[38;5;250m \u001b[39m\u001b[34;01mpandas\u001b[39;00m\u001b[38;5;250m \u001b[39m\u001b[38;5;28;01mas\u001b[39;00m\u001b[38;5;250m \u001b[39m\u001b[34;01mpd\u001b[39;00m\n\u001b[32m      3\u001b[39m \u001b[38;5;28;01mfrom\u001b[39;00m\u001b[38;5;250m \u001b[39m\u001b[34;01mpathlib\u001b[39;00m\u001b[38;5;250m \u001b[39m\u001b[38;5;28;01mimport\u001b[39;00m Path\n\u001b[32m----> \u001b[39m\u001b[32m4\u001b[39m \u001b[38;5;28;01mfrom\u001b[39;00m\u001b[38;5;250m \u001b[39m\u001b[34;01mmodel\u001b[39;00m\u001b[38;5;250m \u001b[39m\u001b[38;5;28;01mimport\u001b[39;00m train_baselines, load_artifacts, prepare_data, evaluate_models\n",
      "\u001b[31mModuleNotFoundError\u001b[39m: No module named 'model'"
     ]
    }
   ],
   "source": [
    "# cell: imports\n",
    "import pandas as pd\n",
    "from pathlib import Path\n",
    "from model import train_baselines, load_artifacts, prepare_data, evaluate_models"
   ]
  },
  {
   "cell_type": "code",
   "execution_count": null,
   "id": "f2d0fc4f",
   "metadata": {},
   "outputs": [],
   "source": [
    "# Adjust the path to where Neville saved model-ready CSV\n",
    "data_path = Path(\"../data/processed/movies_model.csv\")\n",
    "if not data_path.exists():\n",
    "    data_path = Path(\"data/processed/movies_model.csv\")  # alternative path\n",
    "\n",
    "df = pd.read_csv(data_path)\n",
    "df.shape, df.columns.tolist()"
   ]
  },
  {
   "cell_type": "code",
   "execution_count": null,
   "id": "5cb4e209",
   "metadata": {},
   "outputs": [],
   "source": [
    "df.head()\n",
    "df[\"adjusted_gross\"].describe()"
   ]
  },
  {
   "cell_type": "code",
   "execution_count": null,
   "id": "ed42005b",
   "metadata": {},
   "outputs": [],
   "source": [
    "results = train_baselines(df, save_dir=\"models\")\n",
    "results[\"logistic\"][\"scores\"][\"accuracy\"], results[\"random_forest\"][\"scores\"][\"accuracy\"]"
   ]
  },
  {
   "cell_type": "code",
   "execution_count": null,
   "id": "a587a325",
   "metadata": {},
   "outputs": [],
   "source": [
    "import json\n",
    "print(\"Logistic metrics:\")\n",
    "print(json.dumps(results[\"logistic\"][\"scores\"], indent=2))\n",
    "print(\"Random Forest metrics:\")\n",
    "print(json.dumps(results[\"random_forest\"][\"scores\"], indent=2))"
   ]
  },
  {
   "cell_type": "code",
   "execution_count": null,
   "id": "021c5f2e",
   "metadata": {},
   "outputs": [],
   "source": [
    "artifacts = load_artifacts(\"models\")\n",
    "# pick two sample movies (by index)\n",
    "movie_a = df.iloc[0]\n",
    "movie_b = df.iloc[1]\n",
    "from model import predict_proba_for_pair\n",
    "predict_proba_for_pair(movie_a, movie_b, artifacts, model_name=\"random_forest\")"
   ]
  }
 ],
 "metadata": {
  "kernelspec": {
   "display_name": "Python 3",
   "language": "python",
   "name": "python3"
  },
  "language_info": {
   "codemirror_mode": {
    "name": "ipython",
    "version": 3
   },
   "file_extension": ".py",
   "mimetype": "text/x-python",
   "name": "python",
   "nbconvert_exporter": "python",
   "pygments_lexer": "ipython3",
   "version": "3.12.1"
  }
 },
 "nbformat": 4,
 "nbformat_minor": 5
}
