{
 "cells": [
  {
   "cell_type": "code",
   "execution_count": null,
   "id": "5923ade9",
   "metadata": {
    "vscode": {
     "languageId": "plaintext"
    }
   },
   "outputs": [],
   "source": [
    "import pandas as pd\n",
    "from apputil import load_processed, train_baseline\n",
    "\n",
    "df = load_processed()\n",
    "model, feature_cols, auc = train_baseline(df)\n",
    "auc"
   ]
  },
  {
   "cell_type": "code",
   "execution_count": null,
   "id": "ed42005b",
   "metadata": {
    "vscode": {
     "languageId": "plaintext"
    }
   },
   "outputs": [],
   "source": [
    "# Smoke-test prediction\n",
    "\n",
    "from apputil import predict_gross\n",
    "\n",
    "a = \"The Dark Knight\"\n",
    "b = \"Inception\"\n",
    "predict_gross(a, b, df, model, feature_cols)"
   ]
  },
  {
   "cell_type": "code",
   "execution_count": null,
   "id": "a587a325",
   "metadata": {
    "vscode": {
     "languageId": "plaintext"
    }
   },
   "outputs": [],
   "source": [
    "# Save artifacts\n",
    "# able to reuse the trained model without retraining every run:\n",
    "\n",
    "import joblib, os\n",
    "os.makedirs(\"models\", exist_ok=True)\n",
    "joblib.dump({\"model\": model, \"feature_cols\": feature_cols}, \"models/baseline_logreg.joblib\")"
   ]
  }
 ],
 "metadata": {
  "language_info": {
   "name": "python"
  }
 },
 "nbformat": 4,
 "nbformat_minor": 5
}
